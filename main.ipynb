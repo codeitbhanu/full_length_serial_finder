{
 "cells": [
  {
   "cell_type": "code",
   "execution_count": 2,
   "metadata": {},
   "outputs": [],
   "source": [
    "#imports\n",
    "import pyodbc\n",
    "import time\n",
    "import pandas as pd\n",
    "from tqdm.notebook import tqdm"
   ]
  },
  {
   "cell_type": "code",
   "execution_count": 84,
   "metadata": {},
   "outputs": [],
   "source": [
    "#connect to db\n",
    "# >>>>>>>>>>>>>>>>>>>>>>>>>>>>>>>>>>>>>>>>>>>>>>>>>>>>>>>\n",
    "driver = \"{ODBC Driver 17 for SQL Server}\"\n",
    "server = \"172.20.10.103\\PRODUCTION\"\n",
    "database = \"stb_production\"\n",
    "username = \"Neo.Tech\"\n",
    "password = \"Password357\"\n",
    "# <<<<<<<<<<<<<<<<<<<<<<<<<<<<<<<<<<<<<<<<<<<<<<<<<<<<<<<\n",
    "conn = pyodbc.connect(\"DRIVER=\" + driver\n",
    "+ \";SERVER=\" + server\n",
    "+ \";DATABASE=\" + database\n",
    "+ \";UID=\" + username\n",
    "+ \";PWD=\" + password )\n",
    "cursor = conn.cursor()"
   ]
  },
  {
   "cell_type": "code",
   "execution_count": 85,
   "metadata": {},
   "outputs": [],
   "source": [
    "# >>>>>>>>>>>>>>>>>>>>>>>>>>>>>>>>>>>>>>>>>>>>>>>>>>>>>>>\n",
    "filename = 'Nico 372.xlsx'\n",
    "product = '4138'\n",
    "pallet_col = 'Pallet 1'\n",
    "# <<<<<<<<<<<<<<<<<<<<<<<<<<<<<<<<<<<<<<<<<<<<<<<<<<<<<<<\n",
    "\n",
    "excel_data = pd.read_excel(filename)\n",
    "# Read the values of the file in the dataframe\n",
    "df = pd.DataFrame(excel_data, columns=[pallet_col])\n",
    "# Print the content\n",
    "# print(\"The content of the file is:\\n\", df)"
   ]
  },
  {
   "cell_type": "code",
   "execution_count": 86,
   "metadata": {},
   "outputs": [
    {
     "name": "stdout",
     "output_type": "stream",
     "text": [
      "Pallet 1 has 372 items\n"
     ]
    },
    {
     "data": {
      "application/vnd.jupyter.widget-view+json": {
       "model_id": "3e9dbaa0149d4f579d9ec707285ba1c7",
       "version_major": 2,
       "version_minor": 0
      },
      "text/plain": [
       "0/372 |   0%|"
      ]
     },
     "metadata": {},
     "output_type": "display_data"
    }
   ],
   "source": [
    "stb_find_str = '\\''\n",
    "stb_find_list = []\n",
    "\n",
    "stb_found_dict =  {}\n",
    "\n",
    "pallet_stbs = df.iterrows()\n",
    "\n",
    "# print(df.to_numpy().flatten())\n",
    "pallet_stbs_list = df.to_numpy().flatten()\n",
    "\n",
    "# progress bar\n",
    "count_curr = 0\n",
    "count_max = len(pallet_stbs_list)\n",
    "\n",
    "## TEST PARAMS\n",
    "TEST_FLAG = False\n",
    "TEST_COUNT = 0\n",
    "TEST_ITERATION = 10 # This is test run limit for running over a sample of data\n",
    "if(TEST_FLAG == True):\n",
    "    pallet_stbs_list = pallet_stbs_list[:TEST_ITERATION]\n",
    "    count_max = TEST_ITERATION\n",
    "\n",
    "print(f'{pallet_col} has {count_max} items')\n",
    "\n",
    "with tqdm(total=count_max, bar_format=\"{n_fmt}/{total_fmt} | {l_bar}\") as progress_bar:\n",
    "    for stb_num_short in pallet_stbs_list:\n",
    "        # print(f'{stb_num_short}')\n",
    "        count_curr += 1\n",
    "        if (TEST_FLAG and TEST_COUNT < TEST_ITERATION):\n",
    "            # print(f'--TEST_COUNT-- {TEST_COUNT}')\n",
    "            TEST_COUNT +=1\n",
    "        elif (TEST_FLAG):\n",
    "            break        \n",
    "\n",
    "        stb_num_full_temp = ''\n",
    "        for row in cursor.execute(f'''SELECT stb_num FROM stb_production.dbo.production_event\n",
    "        WHERE stb_num LIKE \\'{stb_num_short}%\\''''):\n",
    "            # print(f'>> {row.stb_num}')\n",
    "            stb_find_str = stb_find_str + row.stb_num + '\\',\\''\n",
    "            stb_num_full_temp = row.stb_num.strip()\n",
    "\n",
    "        stb_found_dict[stb_num_short] = {\n",
    "            \"key_word\": stb_num_short,\n",
    "            \"stb_num\": stb_num_full_temp or 'NOT FOUND',\n",
    "            \"cdsn_iuc\": 'NOT FOUND',\n",
    "            \"pcb_num\": 'NOT FOUND'\n",
    "        }\n",
    "\n",
    "        progress_bar.update(1)\n",
    "    progress_bar.close()\n"
   ]
  },
  {
   "cell_type": "code",
   "execution_count": 87,
   "metadata": {},
   "outputs": [
    {
     "name": "stdout",
     "output_type": "stream",
     "text": [
      "\n",
      "KEY_WORD\t\tSTB_NUM\t\t\tIUC_NUM\t\t\tPCB_NUM\n",
      "\n",
      "Total Entries: 372\n"
     ]
    }
   ],
   "source": [
    "# Removes last 2 characters from string\n",
    "if(stb_find_str.endswith(',\\'')):\n",
    "    stb_find_str = stb_find_str[:-2]\n",
    "\n",
    "# TODO: improve, merge all above stb_nums with ''\n",
    "print(f'''\\n{\"KEY_WORD\"}\\t\\t{\"STB_NUM\"}\\t\\t\\t{\"IUC_NUM\"}\\t\\t\\t{\"PCB_NUM\"}''')\n",
    "for innerrow in cursor.execute(f'''SELECT stb_num, cdsn_iuc, pcb_num FROM stb_production.dbo.production_event\n",
    "                                    INNER JOIN\n",
    "                                    device_state_dsd_{product} ON production_event.id_production_event = device_state_dsd_{product}.id_production_event\n",
    "                                    WHERE        stb_num IN ({stb_find_str})'''):\n",
    "    # print(f'''{innerrow.stb_num[:-1]}\\t\\t{innerrow.stb_num}\\t\\t{innerrow.cdsn_iuc}\\t\\t{innerrow.pcb_num}''')\n",
    "    if (innerrow.stb_num in stb_found_dict):\n",
    "        stb_found_dict[innerrow.stb_num.strip()] = {\n",
    "            \"key_word\": innerrow.stb_num.strip()[:-1],\n",
    "            \"stb_num\": innerrow.stb_num,\n",
    "            \"cdsn_iuc\": innerrow.cdsn_iuc,\n",
    "            \"pcb_num\": innerrow.pcb_num\n",
    "        }\n",
    "    else:\n",
    "        stb_found_dict[innerrow.stb_num.strip()[:-1]] = {\n",
    "            \"key_word\": innerrow.stb_num.strip()[:-1],\n",
    "            \"stb_num\": innerrow.stb_num,\n",
    "            \"cdsn_iuc\": innerrow.cdsn_iuc,\n",
    "            \"pcb_num\": innerrow.pcb_num\n",
    "        }\n",
    "    \n",
    "# print(f'''keys: {stb_found_dict.keys()}''')\n",
    "for stb_num_short in stb_found_dict.keys():\n",
    "    try:\n",
    "        pass # print(f'''{stb_num_short}\\t\\t{stb_found_dict[stb_num_short]['stb_num']}\\t\\t{stb_found_dict[stb_num_short]['cdsn_iuc']}\\t\\t{stb_found_dict[stb_num_short]['pcb_num']}''')\n",
    "    except KeyError:\n",
    "        print(f'''{stb_num_short}\\t{'NOT FOUND'}\\t\\t{'NOT FOUND'}\\t\\t{'NOT FOUND'}''')\n",
    "\n",
    "print(f\"\\nTotal Entries: {len(stb_found_dict.keys())}\")"
   ]
  },
  {
   "cell_type": "code",
   "execution_count": 88,
   "metadata": {},
   "outputs": [],
   "source": [
    "out_df = pd.DataFrame(stb_found_dict.values()) \n",
    "out_df.to_excel(f'{pallet_col}.xlsx', index=False)\n",
    "conn.close()"
   ]
  }
 ],
 "metadata": {
  "interpreter": {
   "hash": "2db524e06e9f5f4ffedc911c917cb75e12dbc923643829bf417064a77eb14d37"
  },
  "kernelspec": {
   "display_name": "Python 3.8.8 64-bit",
   "name": "python3"
  },
  "language_info": {
   "codemirror_mode": {
    "name": "ipython",
    "version": 3
   },
   "file_extension": ".py",
   "mimetype": "text/x-python",
   "name": "python",
   "nbconvert_exporter": "python",
   "pygments_lexer": "ipython3",
   "version": "3.8.8"
  },
  "orig_nbformat": 4
 },
 "nbformat": 4,
 "nbformat_minor": 2
}
