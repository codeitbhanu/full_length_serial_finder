{
 "cells": [
  {
   "cell_type": "code",
   "execution_count": 187,
   "source": [
    "#imports\r\n",
    "import pyodbc\r\n",
    "import pandas as pd"
   ],
   "outputs": [],
   "metadata": {}
  },
  {
   "cell_type": "code",
   "execution_count": 188,
   "source": [
    "#connect to db\r\n",
    "# >>>>>>>>>>>>>>>>>>>>>>>>>>>>>>>>>>>>>>>>>>>>>>>>>>>>>>>\r\n",
    "driver = \"{ODBC Driver 17 for SQL Server}\"\r\n",
    "server = \"172.20.10.149\\PRODUCTION\"\r\n",
    "database = \"stb_production\"\r\n",
    "username = \"Neo.Tech\"\r\n",
    "password = \"Password357\"\r\n",
    "# <<<<<<<<<<<<<<<<<<<<<<<<<<<<<<<<<<<<<<<<<<<<<<<<<<<<<<<\r\n",
    "conn = pyodbc.connect(\"DRIVER=\" + driver\r\n",
    "+ \";SERVER=\" + server\r\n",
    "+ \";DATABASE=\" + database\r\n",
    "+ \";UID=\" + username\r\n",
    "+ \";PWD=\" + password )\r\n",
    "cursor = conn.cursor()"
   ],
   "outputs": [],
   "metadata": {}
  },
  {
   "cell_type": "code",
   "execution_count": 204,
   "source": [
    "# >>>>>>>>>>>>>>>>>>>>>>>>>>>>>>>>>>>>>>>>>>>>>>>>>>>>>>>\r\n",
    "filename = 'BGA Rework - 3136 Units.xlsx'\r\n",
    "product = '4138'\r\n",
    "pallet_col = 'Pallet 4'\r\n",
    "# <<<<<<<<<<<<<<<<<<<<<<<<<<<<<<<<<<<<<<<<<<<<<<<<<<<<<<<\r\n",
    "\r\n",
    "\r\n",
    "\r\n",
    "excel_data = pd.read_excel('BGA Rework - 3136 Units.xlsx')\r\n",
    "# Read the values of the file in the dataframe\r\n",
    "df = pd.DataFrame(excel_data, columns=[pallet_col])\r\n",
    "# Print the content\r\n",
    "# print(\"The content of the file is:\\n\", df)"
   ],
   "outputs": [],
   "metadata": {}
  },
  {
   "cell_type": "code",
   "execution_count": 205,
   "source": [
    "stb_find_str = '\\''\r\n",
    "stb_find_list = []\r\n",
    "\r\n",
    "stb_found_dict =  {\r\n",
    "#    KEY: stb_num_short, VALUE: {\r\n",
    "#       \"key_word\": XXXX,\r\n",
    "#       stb_num: XXXX,\r\n",
    "#       cdsn_iuc: XXXX,\r\n",
    "#       pcb_num: XXXX\r\n",
    "# }\r\n",
    "}\r\n",
    "\r\n",
    "\r\n",
    "\r\n",
    "pallet_stbs = df.iterrows()\r\n",
    "\r\n",
    "# print(df.to_numpy().flatten())\r\n",
    "pallet_stbs_list = df.to_numpy().flatten()\r\n",
    "\r\n",
    "print(f'{pallet_col} has {len(pallet_stbs_list)} stbs')\r\n",
    "\r\n",
    "## TEST PARAMS\r\n",
    "TEST_FLAG = False\r\n",
    "TEST_COUNT = 0\r\n",
    "TEST_ITERATION = 7 #TODO: Set this to Zero before running in production\r\n",
    "\r\n",
    "for stb_num_short in pallet_stbs_list:\r\n",
    "    if (TEST_FLAG and TEST_COUNT < TEST_ITERATION):\r\n",
    "        print(f'--TEST_COUNT-- {TEST_COUNT}')\r\n",
    "        TEST_COUNT +=1\r\n",
    "    elif (TEST_FLAG):\r\n",
    "        break\r\n",
    "    # print(f'{stb_num_short}')\r\n",
    "    # time.sleep(1)\r\n",
    "    stb_num_full_temp = ''\r\n",
    "    for row in cursor.execute(f'''SELECT stb_num FROM stb_production.dbo.production_event\r\n",
    "    WHERE stb_num LIKE \\'{stb_num_short}%\\''''):\r\n",
    "        # print(f'>> {row.stb_num}')\r\n",
    "        stb_find_str = stb_find_str + row.stb_num + '\\',\\''\r\n",
    "        stb_num_full_temp = row.stb_num.strip()\r\n",
    "        # temp['found'] = row.stb_num.strip()\r\n",
    "        # print(f'>> {stb_find_str}')\r\n",
    "    # stb_find_list.append(stb_num_short)\r\n",
    "    stb_found_dict[stb_num_short] = {\r\n",
    "        \"key_word\": stb_num_short,\r\n",
    "        \"stb_num\": stb_num_full_temp or 'NOT FOUND',\r\n",
    "        \"cdsn_iuc\": 'NOT FOUND',\r\n",
    "        \"pcb_num\": 'NOT FOUND'\r\n",
    "    }\r\n",
    "\r\n",
    "\r\n"
   ],
   "outputs": [
    {
     "output_type": "stream",
     "name": "stdout",
     "text": [
      "Pallet 4 has 784 stbs\n"
     ]
    }
   ],
   "metadata": {}
  },
  {
   "cell_type": "code",
   "execution_count": 206,
   "source": [
    "# Removes last 2 characters from string\r\n",
    "if(stb_find_str.endswith(',\\'')):\r\n",
    "    stb_find_str = stb_find_str[:-2]\r\n",
    "\r\n",
    "# print(f' SQL Input String for Like Statement {stb_find_str}')\r\n",
    "# print(f' SQL Input List Like Statement {stb_find_list}')\r\n",
    "# print(f' SQL Input Dict Like Statement {stb_found_dict}')\r\n",
    "\r\n",
    "# for row in cursor.execute(f'''SELECT stb_num FROM stb_production.dbo.production_event\r\n",
    "# WHERE stb_num LIKE \\'{input_csv_stb_num}%\\''''):\r\n",
    "#     print(row.stb_num)\r\n",
    "\r\n",
    "# TODO: improve, merge all above stb_nums with ''\r\n",
    "print(f'''\\n{\"KEY_WORD\"}\\t\\t{\"STB_NUM\"}\\t\\t\\t{\"IUC_NUM\"}\\t\\t\\t{\"PCB_NUM\"}''')\r\n",
    "for innerrow in cursor.execute(f'''SELECT stb_num, cdsn_iuc, pcb_num FROM stb_production.dbo.production_event\r\n",
    "                                    INNER JOIN\r\n",
    "                                    device_state_dsd_{product} ON production_event.id_production_event = device_state_dsd_{product}.id_production_event\r\n",
    "                                    WHERE        stb_num IN ({stb_find_str})'''):\r\n",
    "    # print(f'''{innerrow.stb_num[:-1]}\\t\\t{innerrow.stb_num}\\t\\t{innerrow.cdsn_iuc}\\t\\t{innerrow.pcb_num}''')\r\n",
    "    stb_found_dict[innerrow.stb_num.strip()[:-1]] = {\r\n",
    "        \"key_word\": innerrow.stb_num.strip()[:-1],\r\n",
    "        \"stb_num\": innerrow.stb_num,\r\n",
    "        \"cdsn_iuc\": innerrow.cdsn_iuc,\r\n",
    "        \"pcb_num\": innerrow.pcb_num\r\n",
    "    }\r\n",
    "    \r\n",
    "# print(f'''keys: {stb_found_dict.keys()}''')\r\n",
    "for stb_num_short in stb_found_dict.keys():\r\n",
    "    try:\r\n",
    "        pass # print(f'''{stb_num_short}\\t\\t{stb_found_dict[stb_num_short]['stb_num']}\\t\\t{stb_found_dict[stb_num_short]['cdsn_iuc']}\\t\\t{stb_found_dict[stb_num_short]['pcb_num']}''')\r\n",
    "    except KeyError:\r\n",
    "        print(f'''{stb_num_short}\\t{'NOT FOUND'}\\t\\t{'NOT FOUND'}\\t\\t{'NOT FOUND'}''')\r\n",
    "\r\n",
    "print(f\"\\nTotal Entries: {len(stb_found_dict.keys())}\")"
   ],
   "outputs": [
    {
     "output_type": "stream",
     "name": "stdout",
     "text": [
      "\n",
      "KEY_WORD\t\tSTB_NUM\t\t\tIUC_NUM\t\t\tPCB_NUM\n",
      "\n",
      "Total Entries: 784\n"
     ]
    }
   ],
   "metadata": {}
  },
  {
   "cell_type": "code",
   "execution_count": 207,
   "source": [
    "# print(stb_found_dict.values())"
   ],
   "outputs": [],
   "metadata": {}
  },
  {
   "cell_type": "code",
   "execution_count": 208,
   "source": [
    "out_df = pd.DataFrame(stb_found_dict.values()) \r\n",
    "out_df.to_excel(f'{pallet_col}.xlsx', index=False)"
   ],
   "outputs": [],
   "metadata": {}
  }
 ],
 "metadata": {
  "orig_nbformat": 4,
  "language_info": {
   "name": "python",
   "version": "3.7.3",
   "mimetype": "text/x-python",
   "codemirror_mode": {
    "name": "ipython",
    "version": 3
   },
   "pygments_lexer": "ipython3",
   "nbconvert_exporter": "python",
   "file_extension": ".py"
  },
  "kernelspec": {
   "name": "python3",
   "display_name": "Python 3.7.3 64-bit"
  },
  "interpreter": {
   "hash": "04635d289a519a1410467dd0afb0db42f9184808881ca68b2eb5a687a20a5a94"
  }
 },
 "nbformat": 4,
 "nbformat_minor": 2
}