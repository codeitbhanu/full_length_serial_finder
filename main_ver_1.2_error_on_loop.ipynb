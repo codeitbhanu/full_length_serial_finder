{
 "cells": [
  {
   "cell_type": "code",
   "execution_count": 1,
   "source": [
    "#imports\r\n",
    "import pyodbc\r\n",
    "import pandas as pd"
   ],
   "outputs": [],
   "metadata": {}
  },
  {
   "cell_type": "code",
   "execution_count": 19,
   "source": [
    "#connect to db\r\n",
    "driver = \"{ODBC Driver 17 for SQL Server}\"\r\n",
    "server = \"172.20.10.149\\PRODUCTION\"\r\n",
    "database = \"stb_production\"\r\n",
    "username = \"Neo.Tech\"\r\n",
    "password = \"Password357\"\r\n",
    "\r\n",
    "conn = pyodbc.connect(\"DRIVER=\" + driver\r\n",
    "+ \";SERVER=\" + server\r\n",
    "+ \";DATABASE=\" + database\r\n",
    "+ \";UID=\" + username\r\n",
    "+ \";PWD=\" + password )\r\n",
    "cursor = conn.cursor()"
   ],
   "outputs": [],
   "metadata": {}
  },
  {
   "cell_type": "code",
   "execution_count": 62,
   "source": [
    "filename = 'BGA Rework - 3136 Units.xlsx'\r\n",
    "\r\n",
    "pallet_col = 'Pallet 1'\r\n",
    "\r\n",
    "\r\n",
    "excel_data = pd.read_excel('BGA Rework - 3136 Units.xlsx')\r\n",
    "# Read the values of the file in the dataframe\r\n",
    "df = pd.DataFrame(excel_data, columns=[pallet_col])\r\n",
    "# Print the content\r\n",
    "# print(\"The content of the file is:\\n\", df)"
   ],
   "outputs": [],
   "metadata": {}
  },
  {
   "cell_type": "code",
   "execution_count": 68,
   "source": [
    "stb_find_str = '\\''\r\n",
    "stb_find_list = []\r\n",
    "# {\r\n",
    "#     search: '',\r\n",
    "#     found: '',\r\n",
    "#     iuc: '',\r\n",
    "#     pcb: ''\r\n",
    "# }\r\n",
    "product = '4138'\r\n",
    "\r\n",
    "pallet_stbs = df.iterrows()\r\n",
    "\r\n",
    "# print(df.to_numpy().flatten())\r\n",
    "pallet_stbs_list = df.to_numpy().flatten()\r\n",
    "\r\n",
    "print(f'{pallet_col} has {len(pallet_stbs_list)} stbs')\r\n",
    "\r\n",
    "## TEST PARAMS\r\n",
    "test_iter = 7\r\n",
    "\r\n",
    "for stb_num_short in pallet_stbs_list:\r\n",
    "    print(f'--iter-- {test_iter}')\r\n",
    "    temp = {\r\n",
    "        \"search\": stb_num_short,\r\n",
    "        \"found\": '',\r\n",
    "        \"iuc\": '',\r\n",
    "        \"pcb\": ''\r\n",
    "    }\r\n",
    "    if (test_iter >= 0):\r\n",
    "        test_iter -=1\r\n",
    "    else:\r\n",
    "        break\r\n",
    "    print(f'{stb_num_short}')\r\n",
    "    # time.sleep(1)\r\n",
    "    for row in cursor.execute(f'''SELECT stb_num FROM stb_production.dbo.production_event\r\n",
    "    WHERE stb_num LIKE \\'{stb_num_short}%\\''''):\r\n",
    "        # print(f'>> {row.stb_num}')\r\n",
    "        stb_find_str = stb_find_str + row.stb_num + '\\',\\''\r\n",
    "        # stb_find_list.append(row.stb_num)\r\n",
    "        temp['found'] = row.stb_num.strip()\r\n",
    "        print(f'>> {stb_find_str}')\r\n",
    "    stb_find_list.append(temp)\r\n",
    "\r\n",
    "# Removes last character from string\r\n",
    "stb_find_str = stb_find_str[:-2]"
   ],
   "outputs": [
    {
     "output_type": "stream",
     "name": "stdout",
     "text": [
      "Pallet 1 has 784 stbs\n",
      "--iter-- 7\n",
      "S041153204\n",
      "--iter-- 6\n",
      "S040789152\n",
      "--iter-- 5\n",
      "S040006732\n",
      ">> 'S0400067325','\n",
      "--iter-- 4\n",
      "S040846160\n",
      "--iter-- 3\n",
      "S041400465\n",
      ">> 'S0400067325','S0414004652','\n",
      "--iter-- 2\n",
      "S041170035\n",
      "--iter-- 1\n",
      "S040864251\n",
      "--iter-- 0\n",
      "S040977392\n",
      ">> 'S0400067325','S0414004652','S0409773923','\n",
      "--iter-- -1\n"
     ]
    }
   ],
   "metadata": {}
  },
  {
   "cell_type": "code",
   "execution_count": 78,
   "source": [
    "print(f' SQL Input String for Like Statement {stb_find_str}')\r\n",
    "# print(f' SQL Input List Like Statement {stb_find_list}')\r\n",
    "# for row in cursor.execute(f'''SELECT stb_num FROM stb_production.dbo.production_event\r\n",
    "# WHERE stb_num LIKE \\'{input_csv_stb_num}%\\''''):\r\n",
    "#     print(row.stb_num)\r\n",
    "\r\n",
    "# TODO: improve, merge all above stb_nums with ''\r\n",
    "print(f'''{\"KEY_WORD\"} {\"STB_NUM\"}\\t\\t\\t{\"IUC_NUM\"}\\t\\t\\t{\"PCB_NUM\"}''')\r\n",
    "for search_obj in stb_find_list:\r\n",
    "    # print(search_obj)\r\n",
    "    if (search_obj['found'] != ''):\r\n",
    "        for innerrow in cursor.execute(f'''SELECT stb_num, cdsn_iuc, pcb_num FROM stb_production.dbo.production_event\r\n",
    "                                    INNER JOIN\r\n",
    "                                    device_state_dsd_{product} ON production_event.id_production_event = device_state_dsd_{product}.id_production_event\r\n",
    "                                    WHERE        stb_num IN ({stb_find_str})'''):\r\n",
    "                                    if(innerrow.stb_num.startswith(search_obj['found'])):\r\n",
    "                                        print(f'''{search_obj['search']}\\t\\t{innerrow.stb_num}\\t\\t{innerrow.cdsn_iuc}\\t\\t{innerrow.pcb_num}''')\r\n",
    "                                    else:\r\n",
    "                                        print(f'''{'ERROR'}\\t\\t{'ERROR'}\\t\\t{'ERROR'}''')\r\n",
    "    else:\r\n",
    "        print(f'''{search_obj['search']}\\t\\t{'NOT FOUND'}\\t\\t{'NOT FOUND'}\\t\\t{'NOT FOUND'}''')\r\n",
    "\r\n"
   ],
   "outputs": [
    {
     "output_type": "stream",
     "name": "stdout",
     "text": [
      " SQL Input String for Like Statement 'S0400067325','S0414004652','S0409773923'\n",
      "KEY_WORD STB_NUM\t\t\tIUC_NUM\t\t\tPCB_NUM\n",
      "S041153204\t\tNOT FOUND\t\tNOT FOUND\t\tNOT FOUND\n",
      "S040789152\t\tNOT FOUND\t\tNOT FOUND\t\tNOT FOUND\n",
      "S040006732\t\tS0400067325\t\t7030203093\t\t308473008871\n",
      "ERROR\t\tERROR\t\tERROR\n",
      "ERROR\t\tERROR\t\tERROR\n",
      "S040846160\t\tNOT FOUND\t\tNOT FOUND\t\tNOT FOUND\n",
      "ERROR\t\tERROR\t\tERROR\n",
      "ERROR\t\tERROR\t\tERROR\n",
      "S041400465\t\tS0414004652\t\t7042585573\t\t308953036166\n",
      "S041170035\t\tNOT FOUND\t\tNOT FOUND\t\tNOT FOUND\n",
      "S040864251\t\tNOT FOUND\t\tNOT FOUND\t\tNOT FOUND\n",
      "ERROR\t\tERROR\t\tERROR\n",
      "S040977392\t\tS0409773923\t\t7036343833\t\t308781016256\n",
      "ERROR\t\tERROR\t\tERROR\n"
     ]
    }
   ],
   "metadata": {}
  },
  {
   "cell_type": "code",
   "execution_count": null,
   "source": [],
   "outputs": [],
   "metadata": {}
  }
 ],
 "metadata": {
  "orig_nbformat": 4,
  "language_info": {
   "name": "python",
   "version": "3.7.3",
   "mimetype": "text/x-python",
   "codemirror_mode": {
    "name": "ipython",
    "version": 3
   },
   "pygments_lexer": "ipython3",
   "nbconvert_exporter": "python",
   "file_extension": ".py"
  },
  "kernelspec": {
   "name": "python3",
   "display_name": "Python 3.7.3 64-bit"
  },
  "interpreter": {
   "hash": "04635d289a519a1410467dd0afb0db42f9184808881ca68b2eb5a687a20a5a94"
  }
 },
 "nbformat": 4,
 "nbformat_minor": 2
}