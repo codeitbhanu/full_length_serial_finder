{
 "cells": [
  {
   "cell_type": "code",
   "execution_count": 113,
   "source": [
    "#imports\r\n",
    "import pyodbc\r\n",
    "import pandas as pd"
   ],
   "outputs": [],
   "metadata": {}
  },
  {
   "cell_type": "code",
   "execution_count": 114,
   "source": [
    "#connect to db\r\n",
    "driver = \"{ODBC Driver 17 for SQL Server}\"\r\n",
    "server = \"172.20.10.149\\PRODUCTION\"\r\n",
    "database = \"stb_production\"\r\n",
    "username = \"Neo.Tech\"\r\n",
    "password = \"Password357\"\r\n",
    "\r\n",
    "conn = pyodbc.connect(\"DRIVER=\" + driver\r\n",
    "+ \";SERVER=\" + server\r\n",
    "+ \";DATABASE=\" + database\r\n",
    "+ \";UID=\" + username\r\n",
    "+ \";PWD=\" + password )\r\n",
    "cursor = conn.cursor()"
   ],
   "outputs": [],
   "metadata": {}
  },
  {
   "cell_type": "code",
   "execution_count": 115,
   "source": [
    "filename = 'BGA Rework - 3136 Units.xlsx'\r\n",
    "\r\n",
    "pallet_col = 'Pallet 1'\r\n",
    "\r\n",
    "\r\n",
    "excel_data = pd.read_excel('BGA Rework - 3136 Units.xlsx')\r\n",
    "# Read the values of the file in the dataframe\r\n",
    "df = pd.DataFrame(excel_data, columns=[pallet_col])\r\n",
    "# Print the content\r\n",
    "# print(\"The content of the file is:\\n\", df)"
   ],
   "outputs": [],
   "metadata": {}
  },
  {
   "cell_type": "code",
   "execution_count": 129,
   "source": [
    "stb_find_str = '\\''\r\n",
    "stb_find_list = []\r\n",
    "\r\n",
    "stb_found_dict =  {\r\n",
    "#    KEY: stb_num_short, VALUE: {\r\n",
    "#       stb_num: XXXX,\r\n",
    "#       cdsn_iuc: XXXX,\r\n",
    "#       pcb_num: XXXX\r\n",
    "# }\r\n",
    "}\r\n",
    "\r\n",
    "product = '4138'\r\n",
    "\r\n",
    "pallet_stbs = df.iterrows()\r\n",
    "\r\n",
    "# print(df.to_numpy().flatten())\r\n",
    "pallet_stbs_list = df.to_numpy().flatten()\r\n",
    "\r\n",
    "print(f'{pallet_col} has {len(pallet_stbs_list)} stbs')\r\n",
    "\r\n",
    "## TEST PARAMS\r\n",
    "TEST_FLAG = False\r\n",
    "TEST_COUNT = 0\r\n",
    "TEST_ITERATION = 7 #TODO: Set this to Zero before running in production\r\n",
    "\r\n",
    "for stb_num_short in pallet_stbs_list:\r\n",
    "    if (TEST_FLAG and TEST_COUNT < TEST_ITERATION):\r\n",
    "        print(f'--TEST_COUNT-- {TEST_COUNT}')\r\n",
    "        TEST_COUNT +=1\r\n",
    "    elif (TEST_FLAG):\r\n",
    "        break\r\n",
    "    # print(f'{stb_num_short}')\r\n",
    "    # time.sleep(1)\r\n",
    "    for row in cursor.execute(f'''SELECT stb_num FROM stb_production.dbo.production_event\r\n",
    "    WHERE stb_num LIKE \\'{stb_num_short}%\\''''):\r\n",
    "        # print(f'>> {row.stb_num}')\r\n",
    "        stb_find_str = stb_find_str + row.stb_num + '\\',\\''\r\n",
    "        stb_find_list.append(row.stb_num)\r\n",
    "        # temp['found'] = row.stb_num.strip()\r\n",
    "        # print(f'>> {stb_find_str}')\r\n",
    "    stb_find_list.append(stb_num_short)\r\n",
    "    stb_found_dict[stb_num_short.strip()] = {\r\n",
    "        \"stb_num\": 'NOT FOUND',\r\n",
    "        \"cdsn_iuc\": 'NOT FOUND',\r\n",
    "        \"pcb_num\": 'NOT FOUND'\r\n",
    "    }\r\n",
    "\r\n",
    "\r\n"
   ],
   "outputs": [
    {
     "output_type": "stream",
     "name": "stdout",
     "text": [
      "Pallet 1 has 784 stbs\n"
     ]
    },
    {
     "output_type": "error",
     "ename": "KeyboardInterrupt",
     "evalue": "",
     "traceback": [
      "\u001b[1;31m---------------------------------------------------------------------------\u001b[0m",
      "\u001b[1;31mKeyboardInterrupt\u001b[0m                         Traceback (most recent call last)",
      "\u001b[1;32m<ipython-input-129-8c4ecaeb0c64>\u001b[0m in \u001b[0;36m<module>\u001b[1;34m\u001b[0m\n\u001b[0;32m     33\u001b[0m     \u001b[1;31m# time.sleep(1)\u001b[0m\u001b[1;33m\u001b[0m\u001b[1;33m\u001b[0m\u001b[1;33m\u001b[0m\u001b[0m\n\u001b[0;32m     34\u001b[0m     for row in cursor.execute(f'''SELECT stb_num FROM stb_production.dbo.production_event\n\u001b[1;32m---> 35\u001b[1;33m     WHERE stb_num LIKE \\'{stb_num_short}%\\''''):\n\u001b[0m\u001b[0;32m     36\u001b[0m         \u001b[1;31m# print(f'>> {row.stb_num}')\u001b[0m\u001b[1;33m\u001b[0m\u001b[1;33m\u001b[0m\u001b[1;33m\u001b[0m\u001b[0m\n\u001b[0;32m     37\u001b[0m         \u001b[0mstb_find_str\u001b[0m \u001b[1;33m=\u001b[0m \u001b[0mstb_find_str\u001b[0m \u001b[1;33m+\u001b[0m \u001b[0mrow\u001b[0m\u001b[1;33m.\u001b[0m\u001b[0mstb_num\u001b[0m \u001b[1;33m+\u001b[0m \u001b[1;34m'\\',\\''\u001b[0m\u001b[1;33m\u001b[0m\u001b[1;33m\u001b[0m\u001b[0m\n",
      "\u001b[1;31mKeyboardInterrupt\u001b[0m: "
     ]
    }
   ],
   "metadata": {}
  },
  {
   "cell_type": "code",
   "execution_count": 130,
   "source": [
    "# Removes last character from string\r\n",
    "stb_find_str = stb_find_str[:-2]\r\n",
    "\r\n",
    "print(f' SQL Input String for Like Statement {stb_find_str}')\r\n",
    "print(f' SQL Input List Like Statement {stb_find_list}')\r\n",
    "# print(f' SQL Input Dict Like Statement {stb_found_dict}')\r\n",
    "\r\n",
    "# for row in cursor.execute(f'''SELECT stb_num FROM stb_production.dbo.production_event\r\n",
    "# WHERE stb_num LIKE \\'{input_csv_stb_num}%\\''''):\r\n",
    "#     print(row.stb_num)\r\n",
    "\r\n",
    "# TODO: improve, merge all above stb_nums with ''\r\n",
    "print(f'''\\n{\"KEY_WORD\"}\\t\\t{\"STB_NUM\"}\\t\\t\\t{\"IUC_NUM\"}\\t\\t\\t{\"PCB_NUM\"}''')\r\n",
    "for innerrow in cursor.execute(f'''SELECT stb_num, cdsn_iuc, pcb_num FROM stb_production.dbo.production_event\r\n",
    "                                    INNER JOIN\r\n",
    "                                    device_state_dsd_{product} ON production_event.id_production_event = device_state_dsd_{product}.id_production_event\r\n",
    "                                    WHERE        stb_num IN ({stb_find_str})'''):\r\n",
    "    # print(f'''{innerrow.stb_num[:-1]}\\t\\t{innerrow.stb_num}\\t\\t{innerrow.cdsn_iuc}\\t\\t{innerrow.pcb_num}''')\r\n",
    "    stb_found_dict[innerrow.stb_num.strip()[:-1]] = {\r\n",
    "        \"stb_num\": innerrow.stb_num,\r\n",
    "        \"cdsn_iuc\": innerrow.cdsn_iuc,\r\n",
    "        \"pcb_num\": innerrow.pcb_num\r\n",
    "    }\r\n",
    "    \r\n",
    "# print(f'''keys: {stb_found_dict.keys()}''')\r\n",
    "for stb_num_short in stb_found_dict.keys():\r\n",
    "    try:\r\n",
    "        print(f'''{stb_num_short}\\t\\t{stb_found_dict[stb_num_short]['stb_num']}\\t\\t{stb_found_dict[stb_num_short]['cdsn_iuc']}\\t\\t{stb_found_dict[stb_num_short]['pcb_num']}''')\r\n",
    "    except KeyError:\r\n",
    "        print(f'''{stb_num_short}\\t\\t{'NOT FOUND'}\\t\\t{'NOT FOUND'}\\t\\t{'NOT FOUND'}''')\r\n",
    "\r\n"
   ],
   "outputs": [
    {
     "output_type": "stream",
     "name": "stdout",
     "text": [
      " SQL Input String for Like Statement 'S0400067325','S0414004652','S0409773923','S0416891974','S0403420557','S0409828957','S0410762609','S0414301878','S0417320440','S0405204207','S0410651823','S0417537562','S0418753170','S0419570990','S0406495370','S0402347678','S0401835385','S0413103150'\n",
      " SQL Input List Like Statement ['S041153204', 'S040789152', 'S0400067325', 'S040006732', 'S040846160', 'S0414004652', 'S041400465', 'S041170035', 'S040864251', 'S0409773923', 'S040977392', 'S0416891974', 'S041689197', 'S0403420557', 'S040342055', 'S0409828957', 'S040982895', 'S0410762609', 'S041076260', 'S0414301878', 'S041430187', 'S0417320440', 'S041732044', 'S0405204207', 'S040520420', 'S0410651823', 'S041065182', 'S0417537562', 'S041753756', 'S0418753170', 'S041875317', 'S0419570990', 'S041957099', 'S040749638', 'S0406495370', 'S040649537', 'S041164170', 'S040869381', 'S040844445', 'S040740848', 'S041175903', 'S0402347678', 'S040234767', 'S0401835385', 'S040183538', 'S041151918', 'S041164234', 'S0413103150', 'S041310315']\n",
      "\n",
      "KEY_WORD\t\tSTB_NUM\t\t\tIUC_NUM\t\t\tPCB_NUM\n",
      "S041153204\t\tNOT FOUND\t\tNOT FOUND\t\tNOT FOUND\n",
      "S040789152\t\tNOT FOUND\t\tNOT FOUND\t\tNOT FOUND\n",
      "S040006732\t\tS0400067325\t\t7030203093\t\t308473008871\n",
      "S040846160\t\tNOT FOUND\t\tNOT FOUND\t\tNOT FOUND\n",
      "S041400465\t\tS0414004652\t\t7042585573\t\t308953036166\n",
      "S041170035\t\tNOT FOUND\t\tNOT FOUND\t\tNOT FOUND\n",
      "S040864251\t\tNOT FOUND\t\tNOT FOUND\t\tNOT FOUND\n",
      "S040977392\t\tS0409773923\t\t7036343833\t\t308781016256\n",
      "S041689197\t\tS0416891974\t\t7034124517\t\t309135033248\n",
      "S040342055\t\tS0403420557\t\t7030326520\t\t308556084613\n",
      "S040982895\t\tS0409828957\t\t7036711289\t\t308781021490\n",
      "S041076260\t\tS0410762609\t\t7037857587\t\t308854035099\n",
      "S041430187\t\tS0414301878\t\t7033638026\t\t308966020552\n",
      "S041732044\t\tS0417320440\t\t7034082364\t\t309134024101\n",
      "S040520420\t\tS0405204207\t\t7030816589\t\t308619032898\n",
      "S041065182\t\tS0410651823\t\t7038078310\t\t308854022255\n",
      "S041753756\t\tS0417537562\t\t7034205583\t\t309134042809\n",
      "S041875317\t\tS0418753170\t\t7036197996\t\t309198019724\n",
      "S041957099\t\tS0419570990\t\t7035900246\t\t309235015525\n",
      "S040749638\t\tNOT FOUND\t\tNOT FOUND\t\tNOT FOUND\n",
      "S040649537\t\tS0406495370\t\t7034217815\t\t308721011166\n",
      "S041164170\t\tNOT FOUND\t\tNOT FOUND\t\tNOT FOUND\n",
      "S040869381\t\tNOT FOUND\t\tNOT FOUND\t\tNOT FOUND\n",
      "S040844445\t\tNOT FOUND\t\tNOT FOUND\t\tNOT FOUND\n",
      "S040740848\t\tNOT FOUND\t\tNOT FOUND\t\tNOT FOUND\n",
      "S041175903\t\tNOT FOUND\t\tNOT FOUND\t\tNOT FOUND\n",
      "S040234767\t\tS0402347678\t\t7030125498\t\t308543007290\n",
      "S040183538\t\tS0401835385\t\t7030168382\t\t308513039967\n",
      "S041151918\t\tNOT FOUND\t\tNOT FOUND\t\tNOT FOUND\n",
      "S041164234\t\tNOT FOUND\t\tNOT FOUND\t\tNOT FOUND\n",
      "S041310315\t\tS0413103150\t\t7033800346\t\t308937028385\n"
     ]
    }
   ],
   "metadata": {}
  },
  {
   "cell_type": "code",
   "execution_count": null,
   "source": [],
   "outputs": [],
   "metadata": {}
  }
 ],
 "metadata": {
  "orig_nbformat": 4,
  "language_info": {
   "name": "python",
   "version": "3.7.3",
   "mimetype": "text/x-python",
   "codemirror_mode": {
    "name": "ipython",
    "version": 3
   },
   "pygments_lexer": "ipython3",
   "nbconvert_exporter": "python",
   "file_extension": ".py"
  },
  "kernelspec": {
   "name": "python3",
   "display_name": "Python 3.7.3 64-bit"
  },
  "interpreter": {
   "hash": "04635d289a519a1410467dd0afb0db42f9184808881ca68b2eb5a687a20a5a94"
  }
 },
 "nbformat": 4,
 "nbformat_minor": 2
}