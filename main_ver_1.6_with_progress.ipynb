{
 "cells": [
  {
   "cell_type": "code",
   "execution_count": 83,
   "source": [
    "#imports\r\n",
    "import pyodbc\r\n",
    "import time\r\n",
    "import pandas as pd\r\n",
    "from tqdm.notebook import tqdm"
   ],
   "outputs": [],
   "metadata": {}
  },
  {
   "cell_type": "code",
   "execution_count": 84,
   "source": [
    "#connect to db\r\n",
    "# >>>>>>>>>>>>>>>>>>>>>>>>>>>>>>>>>>>>>>>>>>>>>>>>>>>>>>>\r\n",
    "driver = \"{ODBC Driver 17 for SQL Server}\"\r\n",
    "server = \"172.20.10.103\\PRODUCTION\"\r\n",
    "database = \"stb_production\"\r\n",
    "username = \"Neo.Tech\"\r\n",
    "password = \"Password357\"\r\n",
    "# <<<<<<<<<<<<<<<<<<<<<<<<<<<<<<<<<<<<<<<<<<<<<<<<<<<<<<<\r\n",
    "conn = pyodbc.connect(\"DRIVER=\" + driver\r\n",
    "+ \";SERVER=\" + server\r\n",
    "+ \";DATABASE=\" + database\r\n",
    "+ \";UID=\" + username\r\n",
    "+ \";PWD=\" + password )\r\n",
    "cursor = conn.cursor()"
   ],
   "outputs": [],
   "metadata": {}
  },
  {
   "cell_type": "code",
   "execution_count": 85,
   "source": [
    "# >>>>>>>>>>>>>>>>>>>>>>>>>>>>>>>>>>>>>>>>>>>>>>>>>>>>>>>\r\n",
    "filename = 'Nico 372.xlsx'\r\n",
    "product = '4138'\r\n",
    "pallet_col = 'Pallet 1'\r\n",
    "# <<<<<<<<<<<<<<<<<<<<<<<<<<<<<<<<<<<<<<<<<<<<<<<<<<<<<<<\r\n",
    "\r\n",
    "excel_data = pd.read_excel(filename)\r\n",
    "# Read the values of the file in the dataframe\r\n",
    "df = pd.DataFrame(excel_data, columns=[pallet_col])\r\n",
    "# Print the content\r\n",
    "# print(\"The content of the file is:\\n\", df)"
   ],
   "outputs": [],
   "metadata": {}
  },
  {
   "cell_type": "code",
   "execution_count": 86,
   "source": [
    "stb_find_str = '\\''\r\n",
    "stb_find_list = []\r\n",
    "\r\n",
    "stb_found_dict =  {}\r\n",
    "\r\n",
    "pallet_stbs = df.iterrows()\r\n",
    "\r\n",
    "# print(df.to_numpy().flatten())\r\n",
    "pallet_stbs_list = df.to_numpy().flatten()\r\n",
    "\r\n",
    "# progress bar\r\n",
    "count_curr = 0\r\n",
    "count_max = len(pallet_stbs_list)\r\n",
    "\r\n",
    "## TEST PARAMS\r\n",
    "TEST_FLAG = False\r\n",
    "TEST_COUNT = 0\r\n",
    "TEST_ITERATION = 10 # This is test run limit for running over a sample of data\r\n",
    "if(TEST_FLAG == True):\r\n",
    "    pallet_stbs_list = pallet_stbs_list[:TEST_ITERATION]\r\n",
    "    count_max = TEST_ITERATION\r\n",
    "\r\n",
    "print(f'{pallet_col} has {count_max} items')\r\n",
    "\r\n",
    "with tqdm(total=count_max, bar_format=\"{n_fmt}/{total_fmt} | {l_bar}\") as progress_bar:\r\n",
    "    for stb_num_short in pallet_stbs_list:\r\n",
    "        # print(f'{stb_num_short}')\r\n",
    "        count_curr += 1\r\n",
    "        if (TEST_FLAG and TEST_COUNT < TEST_ITERATION):\r\n",
    "            # print(f'--TEST_COUNT-- {TEST_COUNT}')\r\n",
    "            TEST_COUNT +=1\r\n",
    "        elif (TEST_FLAG):\r\n",
    "            break        \r\n",
    "\r\n",
    "        stb_num_full_temp = ''\r\n",
    "        for row in cursor.execute(f'''SELECT stb_num FROM stb_production.dbo.production_event\r\n",
    "        WHERE stb_num LIKE \\'{stb_num_short}%\\''''):\r\n",
    "            # print(f'>> {row.stb_num}')\r\n",
    "            stb_find_str = stb_find_str + row.stb_num + '\\',\\''\r\n",
    "            stb_num_full_temp = row.stb_num.strip()\r\n",
    "\r\n",
    "        stb_found_dict[stb_num_short] = {\r\n",
    "            \"key_word\": stb_num_short,\r\n",
    "            \"stb_num\": stb_num_full_temp or 'NOT FOUND',\r\n",
    "            \"cdsn_iuc\": 'NOT FOUND',\r\n",
    "            \"pcb_num\": 'NOT FOUND'\r\n",
    "        }\r\n",
    "\r\n",
    "        progress_bar.update(1)\r\n",
    "    progress_bar.close()\r\n"
   ],
   "outputs": [
    {
     "output_type": "stream",
     "name": "stdout",
     "text": [
      "Pallet 1 has 372 items\n"
     ]
    },
    {
     "output_type": "display_data",
     "data": {
      "application/vnd.jupyter.widget-view+json": {
       "version_major": 2,
       "version_minor": 0,
       "model_id": "3e9dbaa0149d4f579d9ec707285ba1c7"
      },
      "text/plain": [
       "0/372 |   0%|"
      ]
     },
     "metadata": {}
    }
   ],
   "metadata": {}
  },
  {
   "cell_type": "code",
   "execution_count": 87,
   "source": [
    "# Removes last 2 characters from string\r\n",
    "if(stb_find_str.endswith(',\\'')):\r\n",
    "    stb_find_str = stb_find_str[:-2]\r\n",
    "\r\n",
    "# TODO: improve, merge all above stb_nums with ''\r\n",
    "print(f'''\\n{\"KEY_WORD\"}\\t\\t{\"STB_NUM\"}\\t\\t\\t{\"IUC_NUM\"}\\t\\t\\t{\"PCB_NUM\"}''')\r\n",
    "for innerrow in cursor.execute(f'''SELECT stb_num, cdsn_iuc, pcb_num FROM stb_production.dbo.production_event\r\n",
    "                                    INNER JOIN\r\n",
    "                                    device_state_dsd_{product} ON production_event.id_production_event = device_state_dsd_{product}.id_production_event\r\n",
    "                                    WHERE        stb_num IN ({stb_find_str})'''):\r\n",
    "    # print(f'''{innerrow.stb_num[:-1]}\\t\\t{innerrow.stb_num}\\t\\t{innerrow.cdsn_iuc}\\t\\t{innerrow.pcb_num}''')\r\n",
    "    if (innerrow.stb_num in stb_found_dict):\r\n",
    "        stb_found_dict[innerrow.stb_num.strip()] = {\r\n",
    "            \"key_word\": innerrow.stb_num.strip()[:-1],\r\n",
    "            \"stb_num\": innerrow.stb_num,\r\n",
    "            \"cdsn_iuc\": innerrow.cdsn_iuc,\r\n",
    "            \"pcb_num\": innerrow.pcb_num\r\n",
    "        }\r\n",
    "    else:\r\n",
    "        stb_found_dict[innerrow.stb_num.strip()[:-1]] = {\r\n",
    "            \"key_word\": innerrow.stb_num.strip()[:-1],\r\n",
    "            \"stb_num\": innerrow.stb_num,\r\n",
    "            \"cdsn_iuc\": innerrow.cdsn_iuc,\r\n",
    "            \"pcb_num\": innerrow.pcb_num\r\n",
    "        }\r\n",
    "    \r\n",
    "# print(f'''keys: {stb_found_dict.keys()}''')\r\n",
    "for stb_num_short in stb_found_dict.keys():\r\n",
    "    try:\r\n",
    "        pass # print(f'''{stb_num_short}\\t\\t{stb_found_dict[stb_num_short]['stb_num']}\\t\\t{stb_found_dict[stb_num_short]['cdsn_iuc']}\\t\\t{stb_found_dict[stb_num_short]['pcb_num']}''')\r\n",
    "    except KeyError:\r\n",
    "        print(f'''{stb_num_short}\\t{'NOT FOUND'}\\t\\t{'NOT FOUND'}\\t\\t{'NOT FOUND'}''')\r\n",
    "\r\n",
    "print(f\"\\nTotal Entries: {len(stb_found_dict.keys())}\")"
   ],
   "outputs": [
    {
     "output_type": "stream",
     "name": "stdout",
     "text": [
      "\n",
      "KEY_WORD\t\tSTB_NUM\t\t\tIUC_NUM\t\t\tPCB_NUM\n",
      "\n",
      "Total Entries: 372\n"
     ]
    }
   ],
   "metadata": {}
  },
  {
   "cell_type": "code",
   "execution_count": 88,
   "source": [
    "out_df = pd.DataFrame(stb_found_dict.values()) \r\n",
    "out_df.to_excel(f'{pallet_col}.xlsx', index=False)\r\n",
    "conn.close()"
   ],
   "outputs": [],
   "metadata": {}
  }
 ],
 "metadata": {
  "orig_nbformat": 4,
  "language_info": {
   "name": "python",
   "version": "3.7.3",
   "mimetype": "text/x-python",
   "codemirror_mode": {
    "name": "ipython",
    "version": 3
   },
   "pygments_lexer": "ipython3",
   "nbconvert_exporter": "python",
   "file_extension": ".py"
  },
  "kernelspec": {
   "name": "python3",
   "display_name": "Python 3.7.3 64-bit"
  },
  "interpreter": {
   "hash": "04635d289a519a1410467dd0afb0db42f9184808881ca68b2eb5a687a20a5a94"
  }
 },
 "nbformat": 4,
 "nbformat_minor": 2
}