{
 "cells": [
  {
   "cell_type": "code",
   "execution_count": 1,
   "source": [
    "#imports\r\n",
    "import pyodbc\r\n",
    "import pandas as pd"
   ],
   "outputs": [],
   "metadata": {}
  },
  {
   "cell_type": "code",
   "execution_count": 19,
   "source": [
    "#connect to db\r\n",
    "driver = \"{ODBC Driver 17 for SQL Server}\"\r\n",
    "server = \"172.20.10.149\\PRODUCTION\"\r\n",
    "database = \"stb_production\"\r\n",
    "username = \"Neo.Tech\"\r\n",
    "password = \"Password357\"\r\n",
    "\r\n",
    "conn = pyodbc.connect(\"DRIVER=\" + driver\r\n",
    "+ \";SERVER=\" + server\r\n",
    "+ \";DATABASE=\" + database\r\n",
    "+ \";UID=\" + username\r\n",
    "+ \";PWD=\" + password )\r\n",
    "cursor = conn.cursor()"
   ],
   "outputs": [],
   "metadata": {}
  },
  {
   "cell_type": "code",
   "execution_count": 57,
   "source": [
    "filename = 'BGA Rework - 3136 Units.xlsx'\r\n",
    "product = '4138'\r\n",
    "pallet_col = 'Pallet 1'\r\n",
    "stb_find_str = '\\''\r\n",
    "\r\n",
    "excel_data = pd.read_excel('BGA Rework - 3136 Units.xlsx')\r\n",
    "# Read the values of the file in the dataframe\r\n",
    "df = pd.DataFrame(excel_data, columns=[pallet_col])\r\n",
    "# Print the content\r\n",
    "# print(\"The content of the file is:\\n\", df)"
   ],
   "outputs": [],
   "metadata": {}
  },
  {
   "cell_type": "code",
   "execution_count": 61,
   "source": [
    "import time\r\n",
    "\r\n",
    "pallet_stbs = df.iterrows()\r\n",
    "\r\n",
    "# print(df.to_numpy().flatten())\r\n",
    "pallet_stbs_list = df.to_numpy().flatten()\r\n",
    "\r\n",
    "print(f'{pallet_col} has {len(pallet_stbs_list)} stbs')\r\n",
    "\r\n",
    "test_iter = 7\r\n",
    "stb_find_str = '\\''\r\n",
    "for stb_num_short in pallet_stbs_list:\r\n",
    "    print(f'--iter-- {test_iter}')\r\n",
    "    if (test_iter >= 0):\r\n",
    "        test_iter -=1\r\n",
    "    else:\r\n",
    "        break\r\n",
    "    print(f'{stb_num_short}')\r\n",
    "    time.sleep(1)\r\n",
    "    for row in cursor.execute(f'''SELECT stb_num FROM stb_production.dbo.production_event\r\n",
    "    WHERE stb_num LIKE \\'{stb_num_short}%\\''''):\r\n",
    "        # print(f'>> {row.stb_num}')\r\n",
    "        # stb_find_str = stb_find_str + row.stb_num + '\\',\\''\r\n",
    "        stripped_stb_num = row.stb_num.strip()\r\n",
    "        print(f'>> {stb_find_str}')\r\n",
    "        print(f'''{\"STB_NUM\"}\\t\\t\\t{\"IUC_NUM\"}\\t\\t\\t{\"PCB_NUM\"}''')\r\n",
    "        for innerrow in cursor.execute(f'''SELECT stb_num, cdsn_iuc, pcb_num FROM stb_production.dbo.production_event\r\n",
    "                                        INNER JOIN\r\n",
    "                                        device_state_dsd_{product} ON production_event.id_production_event = device_state_dsd_{product}.id_production_event\r\n",
    "                                        WHERE        stb_num IN (\\'{stripped_stb_num}\\')'''):\r\n",
    "                                        print(f'''{innerrow.stb_num}\\t\\t{innerrow.cdsn_iuc}\\t\\t{innerrow.pcb_num}''')"
   ],
   "outputs": [
    {
     "output_type": "stream",
     "name": "stdout",
     "text": [
      "Pallet 1 has 784 stbs\n",
      "--iter-- 7\n",
      "S041153204\n",
      "--iter-- 6\n",
      "S040789152\n",
      "--iter-- 5\n",
      "S040006732\n",
      ">> '\n",
      "STB_NUM\t\t\tIUC_NUM\t\t\tPCB_NUM\n",
      "S0400067325\t\t7030203093\t\t308473008871\n",
      "--iter-- 4\n",
      "S040846160\n",
      "--iter-- 3\n",
      "S041400465\n",
      ">> '\n",
      "STB_NUM\t\t\tIUC_NUM\t\t\tPCB_NUM\n",
      "S0414004652\t\t7042585573\t\t308953036166\n",
      "--iter-- 2\n",
      "S041170035\n",
      "--iter-- 1\n",
      "S040864251\n",
      "--iter-- 0\n",
      "S040977392\n",
      ">> '\n",
      "STB_NUM\t\t\tIUC_NUM\t\t\tPCB_NUM\n",
      "S0409773923\t\t7036343833\t\t308781016256\n",
      "--iter-- -1\n"
     ]
    }
   ],
   "metadata": {}
  },
  {
   "cell_type": "code",
   "execution_count": 59,
   "source": [
    "print(f' SQL Input for Like Statement {stb_find_str}')\r\n",
    "# for row in cursor.execute(f'''SELECT stb_num FROM stb_production.dbo.production_event\r\n",
    "# WHERE stb_num LIKE \\'{input_csv_stb_num}%\\''''):\r\n",
    "#     print(row.stb_num)\r\n",
    "\r\n",
    "# TODO: improve, merge all above stb_nums with ''\r\n",
    "print(f'''{\"STB_NUM\"}\\t\\t\\t{\"IUC_NUM\"}\\t\\t\\t{\"PCB_NUM\"}''')\r\n",
    "for innerrow in cursor.execute(f'''SELECT stb_num, cdsn_iuc, pcb_num FROM stb_production.dbo.production_event\r\n",
    "                                INNER JOIN\r\n",
    "                                device_state_dsd_{product} ON production_event.id_production_event = device_state_dsd_{product}.id_production_event\r\n",
    "                                WHERE        stb_num IN ({stb_find_str})'''):\r\n",
    "                                print(f'''{innerrow.stb_num}\\t\\t{innerrow.cdsn_iuc}\\t\\t{innerrow.pcb_num}''')\r\n"
   ],
   "outputs": [
    {
     "output_type": "stream",
     "name": "stdout",
     "text": [
      " SQL Input for Like Statement 'S0400067325','S0414004652','S0409773923'\n",
      "STB_NUM\t\t\tIUC_NUM\t\t\tPCB_NUM\n",
      "S0400067325\t\t7030203093\t\t308473008871\n",
      "S0409773923\t\t7036343833\t\t308781016256\n",
      "S0414004652\t\t7042585573\t\t308953036166\n"
     ]
    }
   ],
   "metadata": {}
  }
 ],
 "metadata": {
  "orig_nbformat": 4,
  "language_info": {
   "name": "python",
   "version": "3.7.3",
   "mimetype": "text/x-python",
   "codemirror_mode": {
    "name": "ipython",
    "version": 3
   },
   "pygments_lexer": "ipython3",
   "nbconvert_exporter": "python",
   "file_extension": ".py"
  },
  "kernelspec": {
   "name": "python3",
   "display_name": "Python 3.7.3 64-bit"
  },
  "interpreter": {
   "hash": "04635d289a519a1410467dd0afb0db42f9184808881ca68b2eb5a687a20a5a94"
  }
 },
 "nbformat": 4,
 "nbformat_minor": 2
}