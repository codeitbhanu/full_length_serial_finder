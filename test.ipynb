{
 "cells": [
  {
   "cell_type": "code",
   "execution_count": 7,
   "source": [
    "import pyodbc\r\n",
    "product = '4138'\r\n",
    "driver = \"{ODBC Driver 17 for SQL Server}\"\r\n",
    "server = \"172.20.10.149\\PRODUCTION\"\r\n",
    "database = \"stb_production\"\r\n",
    "username = \"Neo.Tech\"\r\n",
    "password = \"Password357\"\r\n",
    "conn = pyodbc.connect(\"DRIVER=\" + driver\r\n",
    "+ \";SERVER=\" + server\r\n",
    "+ \";DATABASE=\" + database\r\n",
    "+ \";UID=\" + username\r\n",
    "+ \";PWD=\" + password )\r\n",
    "cursor = conn.cursor()\r\n",
    "\r\n",
    "# Declarations for csv values\r\n",
    "input_csv_stb_num = 'S040977392'\r\n"
   ],
   "outputs": [],
   "metadata": {}
  },
  {
   "cell_type": "code",
   "execution_count": 13,
   "source": [
    "for row in cursor.execute(f'''SELECT stb_num FROM stb_production.dbo.production_event\r\n",
    "WHERE stb_num LIKE \\'{input_csv_stb_num}%\\''''):\r\n",
    "    # print(row.stb_num)\r\n",
    "\r\n",
    "    # TODO: improve, merge all above stb_nums with ''\r\n",
    "    print(f'''{\"STB_NUM\"}\\t\\t\\t{\"IUC_NUM\"}\\t\\t\\t{\"PCB_NUM\"}''')\r\n",
    "    for innerrow in cursor.execute(f'''SELECT stb_num, cdsn_iuc, pcb_num FROM stb_production.dbo.production_event\r\n",
    "                                        INNER JOIN\r\n",
    "\t\t\t\t\t\t                device_state_dsd_{product} ON production_event.id_production_event = device_state_dsd_{product}.id_production_event\r\n",
    "                                        WHERE        stb_num IN (\\'S0409773923\\')'''):\r\n",
    "                                        print(f'''{innerrow.stb_num}\\t\\t{innerrow.cdsn_iuc}\\t\\t{innerrow.pcb_num}''')\r\n"
   ],
   "outputs": [
    {
     "output_type": "stream",
     "name": "stdout",
     "text": [
      "STB_NUM\t\t\tIUC_NUM\t\t\tPCB_NUM\n",
      "S0409773923\t\t7036343833\t\t308781016256\n"
     ]
    }
   ],
   "metadata": {}
  }
 ],
 "metadata": {
  "orig_nbformat": 4,
  "language_info": {
   "name": "python",
   "version": "3.7.3",
   "mimetype": "text/x-python",
   "codemirror_mode": {
    "name": "ipython",
    "version": 3
   },
   "pygments_lexer": "ipython3",
   "nbconvert_exporter": "python",
   "file_extension": ".py"
  },
  "kernelspec": {
   "name": "python3",
   "display_name": "Python 3.7.3 64-bit"
  },
  "interpreter": {
   "hash": "04635d289a519a1410467dd0afb0db42f9184808881ca68b2eb5a687a20a5a94"
  }
 },
 "nbformat": 4,
 "nbformat_minor": 2
}